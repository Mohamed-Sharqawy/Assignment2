{
 "cells": [
  {
   "cell_type": "markdown",
   "id": "fc4fb5b2-3c17-4a70-9a86-6b62d91a016d",
   "metadata": {},
   "source": [
    "<h1>Mini_Project\n",
    "</h1>"
   ]
  },
  {
   "cell_type": "code",
   "execution_count": null,
   "id": "808a3898-14e3-49bf-8269-614aeea3bf2f",
   "metadata": {},
   "outputs": [],
   "source": [
    "import calc \n",
    "\n",
    "def main():\n",
    "    while True:\n",
    "        # Get inputs from the user\n",
    "        operation = input(\"Choose: add/ sub/ mult/ div/ stop: \").lower()\n",
    "\n",
    "        # Stop condition\n",
    "        if operation == \"stop\":\n",
    "            print(\"Exiting the calculator.\")\n",
    "            break\n",
    "        else:\n",
    "            first_num = float(input(\"Enter the first number: \"))\n",
    "            second_num = float(input(\"Enter the second number: \"))\n",
    "\n",
    "        # Define the result function to perform operations\n",
    "        def result(operation, num1, num2):\n",
    "            if operation == \"add\":\n",
    "                calc.add(num1, num2)  # Renamed function from sum to add\n",
    "            elif operation == \"sub\":\n",
    "                calc.subtract(num1, num2)\n",
    "            elif operation == \"mult\":\n",
    "                calc.multiply(num1, num2)\n",
    "            elif operation == \"div\":\n",
    "                calc.divide(num1, num2)  # Pass num1 and num2 directly\n",
    "            else:\n",
    "                print(\"Invalid operation!\")\n",
    "\n",
    "        result(operation, first_num, second_num)\n",
    "\n",
    "if __name__ == \"__main__\":\n",
    "    main()\n"
   ]
  },
  {
   "cell_type": "code",
   "execution_count": null,
   "id": "373695bb-7991-4feb-8b2b-066e45f67ba0",
   "metadata": {},
   "outputs": [],
   "source": []
  },
  {
   "cell_type": "code",
   "execution_count": null,
   "id": "c63f4253-5d7a-4fe7-91e5-d384c0e7520a",
   "metadata": {},
   "outputs": [],
   "source": []
  },
  {
   "cell_type": "code",
   "execution_count": null,
   "id": "f2c86f83-5a6c-42eb-a498-cbc945345b75",
   "metadata": {},
   "outputs": [],
   "source": []
  }
 ],
 "metadata": {
  "kernelspec": {
   "display_name": "Python 3 (ipykernel)",
   "language": "python",
   "name": "python3"
  },
  "language_info": {
   "codemirror_mode": {
    "name": "ipython",
    "version": 3
   },
   "file_extension": ".py",
   "mimetype": "text/x-python",
   "name": "python",
   "nbconvert_exporter": "python",
   "pygments_lexer": "ipython3",
   "version": "3.12.4"
  }
 },
 "nbformat": 4,
 "nbformat_minor": 5
}
